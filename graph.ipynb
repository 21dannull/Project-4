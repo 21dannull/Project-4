{
  "nbformat": 4,
  "nbformat_minor": 0,
  "metadata": {
    "colab": {
      "name": "graph.ipynb",
      "provenance": [],
      "collapsed_sections": []
    },
    "kernelspec": {
      "name": "python3",
      "display_name": "Python 3"
    },
    "language_info": {
      "name": "python"
    },
    "widgets": {
      "application/vnd.jupyter.widget-state+json": {
        "ff045846011342109ba09839a30ccb53": {
          "model_module": "@jupyter-widgets/controls",
          "model_name": "VBoxModel",
          "state": {
            "_view_name": "VBoxView",
            "_dom_classes": [
              "widget-interact"
            ],
            "_model_name": "VBoxModel",
            "_view_module": "@jupyter-widgets/controls",
            "_model_module_version": "1.5.0",
            "_view_count": null,
            "_view_module_version": "1.5.0",
            "box_style": "",
            "layout": "IPY_MODEL_a79b7b952fd649e4b5c39f9755e48a39",
            "_model_module": "@jupyter-widgets/controls",
            "children": [
              "IPY_MODEL_48e63609aa1146a09a2b55856ecbaa80",
              "IPY_MODEL_63b88481ef9946eab28f31bdef7e9b2a"
            ]
          }
        },
        "a79b7b952fd649e4b5c39f9755e48a39": {
          "model_module": "@jupyter-widgets/base",
          "model_name": "LayoutModel",
          "state": {
            "_view_name": "LayoutView",
            "grid_template_rows": null,
            "right": null,
            "justify_content": null,
            "_view_module": "@jupyter-widgets/base",
            "overflow": null,
            "_model_module_version": "1.2.0",
            "_view_count": null,
            "flex_flow": null,
            "width": null,
            "min_width": null,
            "border": null,
            "align_items": null,
            "bottom": null,
            "_model_module": "@jupyter-widgets/base",
            "top": null,
            "grid_column": null,
            "overflow_y": null,
            "overflow_x": null,
            "grid_auto_flow": null,
            "grid_area": null,
            "grid_template_columns": null,
            "flex": null,
            "_model_name": "LayoutModel",
            "justify_items": null,
            "grid_row": null,
            "max_height": null,
            "align_content": null,
            "visibility": null,
            "align_self": null,
            "height": null,
            "min_height": null,
            "padding": null,
            "grid_auto_rows": null,
            "grid_gap": null,
            "max_width": null,
            "order": null,
            "_view_module_version": "1.2.0",
            "grid_template_areas": null,
            "object_position": null,
            "object_fit": null,
            "grid_auto_columns": null,
            "margin": null,
            "display": null,
            "left": null
          }
        },
        "48e63609aa1146a09a2b55856ecbaa80": {
          "model_module": "@jupyter-widgets/controls",
          "model_name": "DropdownModel",
          "state": {
            "_options_labels": [
              "2017-04",
              "2016-12",
              "2015-05",
              "2013-12",
              "2016-07",
              "2016-03",
              "2016-05",
              "2015-10",
              "2015-06",
              "2014-05",
              "2014-02",
              "2017-03",
              "2015-07",
              "2016-10",
              "2015-11",
              "2017-01",
              "2014-12",
              "2014-10",
              "2016-04",
              "2016-01",
              "2016-11",
              "2015-03",
              "2015-04",
              "2015-09",
              "2015-01",
              "2017-02",
              "2014-08",
              "2014-09",
              "2015-08",
              "2016-06",
              "2014-11",
              "2014-01",
              "2016-08",
              "2014-03",
              "2016-09",
              "2015-02",
              "2014-07",
              "2016-02",
              "2015-12",
              "2014-04",
              "2014-06"
            ],
            "_view_name": "DropdownView",
            "style": "IPY_MODEL_f7004d346d2c4dd1ab45a0c4cea76af3",
            "_dom_classes": [],
            "description": "x",
            "_model_name": "DropdownModel",
            "index": 13,
            "_view_module": "@jupyter-widgets/controls",
            "_model_module_version": "1.5.0",
            "_view_count": null,
            "disabled": false,
            "_view_module_version": "1.5.0",
            "description_tooltip": null,
            "_model_module": "@jupyter-widgets/controls",
            "layout": "IPY_MODEL_de58dda096534f6bb4e55d2ccbc61215"
          }
        },
        "63b88481ef9946eab28f31bdef7e9b2a": {
          "model_module": "@jupyter-widgets/output",
          "model_name": "OutputModel",
          "state": {
            "_view_name": "OutputView",
            "msg_id": "",
            "_dom_classes": [],
            "_model_name": "OutputModel",
            "outputs": [
              {
                "output_type": "stream",
                "metadata": {
                  "tags": []
                },
                "text": "AVERAGE IN DEGREE: 2.7626251390433816, AVERAGE OUT DEGREE: 2.7626251390433816\nMOST ACTIVE SUBREDDIT: (735, 'askreddit')\nBIGGEST EDGES\n(14, 'streetfighter->sf4')\n(16, 'cig_rca->starcitizen')\n(37, 'jatwaaspaceprogram->kerbalspaceprogram')\n(17, 'iia->nosleep')\n(17, 'topcommentoftheday->askreddit')\nNICEST EDGES\n(14, 'fireemblemcasual->fireemblem')\n(14, 'streetfighter->sf4')\n(16, 'cig_rca->starcitizen')\n(37, 'jatwaaspaceprogram->kerbalspaceprogram')\n(17, 'iia->nosleep')\nMEANEST EDGES\n(-4, 'hearthstone->hearthstonecirclejerk')\n(-3, 'drama->unitedkingdom')\n(-4, 'drama->relationships')\n(-4, 'metacanada->canadapolitics')\n(-3, 'circlejerkaustralia->australia')\nMOST LOVED\n(329, 'iama')\n(735, 'askreddit')\n(354, 'the_donald')\n(297, 'pics')\n(324, 'politics')\nMOST HATED\n(0, '2016_elections')\n(0, '1200isjerky')\n(0, '18650masterrace')\n(0, '0________0')\n(0, '24811812513198111524')\nNICEST SUBREDDIT\n(142, 'subredditdrama')\n(318, 'bestof')\n(165, 'shitredditsays')\n(142, 'switcharoo')\n(244, 'titlegore')\nMEANEST SUBREDDIT\n(-14, 'subreddit_stats')\n(-3, 'islamicstate')\n(-3, 'jihadinfocus')\n(-4, 'clicksonlinks')\n(-4, 'harmreductionexperts')\n",
                "stream": "stdout"
              }
            ],
            "_view_module": "@jupyter-widgets/output",
            "_model_module_version": "1.0.0",
            "_view_count": null,
            "_view_module_version": "1.0.0",
            "layout": "IPY_MODEL_172ba12f40d24be1a357f8d56527481b",
            "_model_module": "@jupyter-widgets/output"
          }
        },
        "f7004d346d2c4dd1ab45a0c4cea76af3": {
          "model_module": "@jupyter-widgets/controls",
          "model_name": "DescriptionStyleModel",
          "state": {
            "_view_name": "StyleView",
            "_model_name": "DescriptionStyleModel",
            "description_width": "",
            "_view_module": "@jupyter-widgets/base",
            "_model_module_version": "1.5.0",
            "_view_count": null,
            "_view_module_version": "1.2.0",
            "_model_module": "@jupyter-widgets/controls"
          }
        },
        "de58dda096534f6bb4e55d2ccbc61215": {
          "model_module": "@jupyter-widgets/base",
          "model_name": "LayoutModel",
          "state": {
            "_view_name": "LayoutView",
            "grid_template_rows": null,
            "right": null,
            "justify_content": null,
            "_view_module": "@jupyter-widgets/base",
            "overflow": null,
            "_model_module_version": "1.2.0",
            "_view_count": null,
            "flex_flow": null,
            "width": null,
            "min_width": null,
            "border": null,
            "align_items": null,
            "bottom": null,
            "_model_module": "@jupyter-widgets/base",
            "top": null,
            "grid_column": null,
            "overflow_y": null,
            "overflow_x": null,
            "grid_auto_flow": null,
            "grid_area": null,
            "grid_template_columns": null,
            "flex": null,
            "_model_name": "LayoutModel",
            "justify_items": null,
            "grid_row": null,
            "max_height": null,
            "align_content": null,
            "visibility": null,
            "align_self": null,
            "height": null,
            "min_height": null,
            "padding": null,
            "grid_auto_rows": null,
            "grid_gap": null,
            "max_width": null,
            "order": null,
            "_view_module_version": "1.2.0",
            "grid_template_areas": null,
            "object_position": null,
            "object_fit": null,
            "grid_auto_columns": null,
            "margin": null,
            "display": null,
            "left": null
          }
        },
        "172ba12f40d24be1a357f8d56527481b": {
          "model_module": "@jupyter-widgets/base",
          "model_name": "LayoutModel",
          "state": {
            "_view_name": "LayoutView",
            "grid_template_rows": null,
            "right": null,
            "justify_content": null,
            "_view_module": "@jupyter-widgets/base",
            "overflow": null,
            "_model_module_version": "1.2.0",
            "_view_count": null,
            "flex_flow": null,
            "width": null,
            "min_width": null,
            "border": null,
            "align_items": null,
            "bottom": null,
            "_model_module": "@jupyter-widgets/base",
            "top": null,
            "grid_column": null,
            "overflow_y": null,
            "overflow_x": null,
            "grid_auto_flow": null,
            "grid_area": null,
            "grid_template_columns": null,
            "flex": null,
            "_model_name": "LayoutModel",
            "justify_items": null,
            "grid_row": null,
            "max_height": null,
            "align_content": null,
            "visibility": null,
            "align_self": null,
            "height": null,
            "min_height": null,
            "padding": null,
            "grid_auto_rows": null,
            "grid_gap": null,
            "max_width": null,
            "order": null,
            "_view_module_version": "1.2.0",
            "grid_template_areas": null,
            "object_position": null,
            "object_fit": null,
            "grid_auto_columns": null,
            "margin": null,
            "display": null,
            "left": null
          }
        }
      }
    }
  },
  "cells": [
    {
      "cell_type": "code",
      "metadata": {
        "id": "Gbs19Qyl5Lbm"
      },
      "source": [
        "#https://snap.stanford.edu/data/soc-RedditHyperlinks.html\n",
        "from google.colab import drive\n",
        "import pandas as pd\n",
        "import networkx as nx\n",
        "from matplotlib import pyplot as plt\n",
        "import numpy as np\n",
        "from IPython.display import clear_output\n",
        "from ipywidgets import interact\n",
        "import math"
      ],
      "execution_count": 29,
      "outputs": []
    },
    {
      "cell_type": "code",
      "metadata": {
        "colab": {
          "base_uri": "https://localhost:8080/"
        },
        "id": "n6s5-3N08BCb",
        "outputId": "c559b60b-14c7-412a-d8f0-59ee05ff6004"
      },
      "source": [
        "drive.mount('/content/gdrive/')\n",
        "BODY_PATH = \"/content/gdrive/My Drive/Colab Notebooks/files/soc-redditHyperlinks-body.tsv\"\n",
        "TITLE_PATH = \"/content/gdrive/My Drive/Colab Notebooks/files/soc-redditHyperlinks-title.tsv\""
      ],
      "execution_count": 2,
      "outputs": [
        {
          "output_type": "stream",
          "text": [
            "Mounted at /content/gdrive/\n"
          ],
          "name": "stdout"
        }
      ]
    },
    {
      "cell_type": "code",
      "metadata": {
        "id": "MoXZ2HDX8Nwg"
      },
      "source": [
        "df = pd.concat([pd.read_csv(BODY_PATH, delimiter=\"\\t\"), pd.read_csv(TITLE_PATH, delimiter=\"\\t\")])"
      ],
      "execution_count": 3,
      "outputs": []
    },
    {
      "cell_type": "code",
      "metadata": {
        "colab": {
          "base_uri": "https://localhost:8080/",
          "height": 204
        },
        "id": "d-4r58I_8Udf",
        "outputId": "7dbfba09-535f-4360-f472-ff2c5e239d27"
      },
      "source": [
        "df.head()"
      ],
      "execution_count": 4,
      "outputs": [
        {
          "output_type": "execute_result",
          "data": {
            "text/html": [
              "<div>\n",
              "<style scoped>\n",
              "    .dataframe tbody tr th:only-of-type {\n",
              "        vertical-align: middle;\n",
              "    }\n",
              "\n",
              "    .dataframe tbody tr th {\n",
              "        vertical-align: top;\n",
              "    }\n",
              "\n",
              "    .dataframe thead th {\n",
              "        text-align: right;\n",
              "    }\n",
              "</style>\n",
              "<table border=\"1\" class=\"dataframe\">\n",
              "  <thead>\n",
              "    <tr style=\"text-align: right;\">\n",
              "      <th></th>\n",
              "      <th>SOURCE_SUBREDDIT</th>\n",
              "      <th>TARGET_SUBREDDIT</th>\n",
              "      <th>POST_ID</th>\n",
              "      <th>TIMESTAMP</th>\n",
              "      <th>LINK_SENTIMENT</th>\n",
              "      <th>PROPERTIES</th>\n",
              "    </tr>\n",
              "  </thead>\n",
              "  <tbody>\n",
              "    <tr>\n",
              "      <th>0</th>\n",
              "      <td>leagueoflegends</td>\n",
              "      <td>teamredditteams</td>\n",
              "      <td>1u4nrps</td>\n",
              "      <td>2013-12-31 16:39:58</td>\n",
              "      <td>1</td>\n",
              "      <td>345.0,298.0,0.75652173913,0.0173913043478,0.08...</td>\n",
              "    </tr>\n",
              "    <tr>\n",
              "      <th>1</th>\n",
              "      <td>theredlion</td>\n",
              "      <td>soccer</td>\n",
              "      <td>1u4qkd</td>\n",
              "      <td>2013-12-31 18:18:37</td>\n",
              "      <td>-1</td>\n",
              "      <td>101.0,98.0,0.742574257426,0.019801980198,0.049...</td>\n",
              "    </tr>\n",
              "    <tr>\n",
              "      <th>2</th>\n",
              "      <td>inlandempire</td>\n",
              "      <td>bikela</td>\n",
              "      <td>1u4qlzs</td>\n",
              "      <td>2014-01-01 14:54:35</td>\n",
              "      <td>1</td>\n",
              "      <td>85.0,85.0,0.752941176471,0.0235294117647,0.082...</td>\n",
              "    </tr>\n",
              "    <tr>\n",
              "      <th>3</th>\n",
              "      <td>nfl</td>\n",
              "      <td>cfb</td>\n",
              "      <td>1u4sjvs</td>\n",
              "      <td>2013-12-31 17:37:55</td>\n",
              "      <td>1</td>\n",
              "      <td>1124.0,949.0,0.772241992883,0.0017793594306,0....</td>\n",
              "    </tr>\n",
              "    <tr>\n",
              "      <th>4</th>\n",
              "      <td>playmygame</td>\n",
              "      <td>gamedev</td>\n",
              "      <td>1u4w5ss</td>\n",
              "      <td>2014-01-01 02:51:13</td>\n",
              "      <td>1</td>\n",
              "      <td>715.0,622.0,0.777622377622,0.00699300699301,0....</td>\n",
              "    </tr>\n",
              "  </tbody>\n",
              "</table>\n",
              "</div>"
            ],
            "text/plain": [
              "  SOURCE_SUBREDDIT  ...                                         PROPERTIES\n",
              "0  leagueoflegends  ...  345.0,298.0,0.75652173913,0.0173913043478,0.08...\n",
              "1       theredlion  ...  101.0,98.0,0.742574257426,0.019801980198,0.049...\n",
              "2     inlandempire  ...  85.0,85.0,0.752941176471,0.0235294117647,0.082...\n",
              "3              nfl  ...  1124.0,949.0,0.772241992883,0.0017793594306,0....\n",
              "4       playmygame  ...  715.0,622.0,0.777622377622,0.00699300699301,0....\n",
              "\n",
              "[5 rows x 6 columns]"
            ]
          },
          "metadata": {
            "tags": []
          },
          "execution_count": 4
        }
      ]
    },
    {
      "cell_type": "code",
      "metadata": {
        "id": "uGaHGT6wXTYQ",
        "colab": {
          "base_uri": "https://localhost:8080/",
          "height": 419
        },
        "outputId": "914f2292-caf8-4de5-f506-d9b1b5eb2d12"
      },
      "source": [
        "def get_month(df, date):\n",
        "  return df[df[\"TIMESTAMP\"] == date]\n",
        "#get_month(df, \"2014-03\")\n",
        "df[\"TIMESTAMP\"] = df[\"TIMESTAMP\"].apply(lambda x : x[:7])\n",
        "get_month(df, \"2014-03\")"
      ],
      "execution_count": 10,
      "outputs": [
        {
          "output_type": "execute_result",
          "data": {
            "text/html": [
              "<div>\n",
              "<style scoped>\n",
              "    .dataframe tbody tr th:only-of-type {\n",
              "        vertical-align: middle;\n",
              "    }\n",
              "\n",
              "    .dataframe tbody tr th {\n",
              "        vertical-align: top;\n",
              "    }\n",
              "\n",
              "    .dataframe thead th {\n",
              "        text-align: right;\n",
              "    }\n",
              "</style>\n",
              "<table border=\"1\" class=\"dataframe\">\n",
              "  <thead>\n",
              "    <tr style=\"text-align: right;\">\n",
              "      <th></th>\n",
              "      <th>SOURCE_SUBREDDIT</th>\n",
              "      <th>TARGET_SUBREDDIT</th>\n",
              "      <th>POST_ID</th>\n",
              "      <th>TIMESTAMP</th>\n",
              "      <th>LINK_SENTIMENT</th>\n",
              "      <th>PROPERTIES</th>\n",
              "    </tr>\n",
              "  </thead>\n",
              "  <tbody>\n",
              "    <tr>\n",
              "      <th>7</th>\n",
              "      <td>indiefied</td>\n",
              "      <td>aww</td>\n",
              "      <td>1u50pos</td>\n",
              "      <td>2014-03</td>\n",
              "      <td>1</td>\n",
              "      <td>295.0,256.0,0.749152542373,0.0203389830508,0.0...</td>\n",
              "    </tr>\n",
              "    <tr>\n",
              "      <th>2253</th>\n",
              "      <td>indiefied</td>\n",
              "      <td>askreddit</td>\n",
              "      <td>1vhza9s</td>\n",
              "      <td>2014-03</td>\n",
              "      <td>1</td>\n",
              "      <td>248.0,235.0,0.778225806452,0.0120967741935,0.0...</td>\n",
              "    </tr>\n",
              "    <tr>\n",
              "      <th>2706</th>\n",
              "      <td>ascensiongame</td>\n",
              "      <td>solforge</td>\n",
              "      <td>1vs3wzs</td>\n",
              "      <td>2014-03</td>\n",
              "      <td>1</td>\n",
              "      <td>99.0,99.0,0.777777777778,0.020202020202,0.0606...</td>\n",
              "    </tr>\n",
              "    <tr>\n",
              "      <th>5040</th>\n",
              "      <td>indiefied</td>\n",
              "      <td>askreddit</td>\n",
              "      <td>1x2ah4s</td>\n",
              "      <td>2014-03</td>\n",
              "      <td>1</td>\n",
              "      <td>118.0,118.0,0.771186440678,0.0508474576271,0.0...</td>\n",
              "    </tr>\n",
              "    <tr>\n",
              "      <th>5279</th>\n",
              "      <td>redditsierra</td>\n",
              "      <td>clashofclans</td>\n",
              "      <td>1x71s7s</td>\n",
              "      <td>2014-03</td>\n",
              "      <td>1</td>\n",
              "      <td>845.0,713.0,0.751479289941,0.010650887574,0.02...</td>\n",
              "    </tr>\n",
              "    <tr>\n",
              "      <th>...</th>\n",
              "      <td>...</td>\n",
              "      <td>...</td>\n",
              "      <td>...</td>\n",
              "      <td>...</td>\n",
              "      <td>...</td>\n",
              "      <td>...</td>\n",
              "    </tr>\n",
              "    <tr>\n",
              "      <th>445935</th>\n",
              "      <td>monism</td>\n",
              "      <td>askphilosophy</td>\n",
              "      <td>55gnnjs</td>\n",
              "      <td>2014-03</td>\n",
              "      <td>1</td>\n",
              "      <td>80.0,72.0,0.825,0.0,0.0875,0.1125,0.0625,10.0,...</td>\n",
              "    </tr>\n",
              "    <tr>\n",
              "      <th>446021</th>\n",
              "      <td>facedeepinpublic</td>\n",
              "      <td>trashyboners</td>\n",
              "      <td>55hljus</td>\n",
              "      <td>2014-03</td>\n",
              "      <td>1</td>\n",
              "      <td>20.0,18.0,0.8,0.0,0.3,0.15,0.05,4.0,4.0,0.0,4....</td>\n",
              "    </tr>\n",
              "    <tr>\n",
              "      <th>479232</th>\n",
              "      <td>spchan</td>\n",
              "      <td>swarje</td>\n",
              "      <td>5fqte1s</td>\n",
              "      <td>2014-03</td>\n",
              "      <td>1</td>\n",
              "      <td>30.0,26.0,0.733333333333,0.0,0.4,0.16666666666...</td>\n",
              "    </tr>\n",
              "    <tr>\n",
              "      <th>500540</th>\n",
              "      <td>austiz</td>\n",
              "      <td>videos</td>\n",
              "      <td>5mef0ns</td>\n",
              "      <td>2014-03</td>\n",
              "      <td>1</td>\n",
              "      <td>29.0,27.0,0.793103448276,0.0,0.241379310345,0....</td>\n",
              "    </tr>\n",
              "    <tr>\n",
              "      <th>501183</th>\n",
              "      <td>4acodmt</td>\n",
              "      <td>drugs</td>\n",
              "      <td>5mltqfs</td>\n",
              "      <td>2014-03</td>\n",
              "      <td>1</td>\n",
              "      <td>46.0,41.0,0.739130434783,0.0217391304348,0.152...</td>\n",
              "    </tr>\n",
              "  </tbody>\n",
              "</table>\n",
              "<p>15390 rows × 6 columns</p>\n",
              "</div>"
            ],
            "text/plain": [
              "        SOURCE_SUBREDDIT  ...                                         PROPERTIES\n",
              "7              indiefied  ...  295.0,256.0,0.749152542373,0.0203389830508,0.0...\n",
              "2253           indiefied  ...  248.0,235.0,0.778225806452,0.0120967741935,0.0...\n",
              "2706       ascensiongame  ...  99.0,99.0,0.777777777778,0.020202020202,0.0606...\n",
              "5040           indiefied  ...  118.0,118.0,0.771186440678,0.0508474576271,0.0...\n",
              "5279        redditsierra  ...  845.0,713.0,0.751479289941,0.010650887574,0.02...\n",
              "...                  ...  ...                                                ...\n",
              "445935            monism  ...  80.0,72.0,0.825,0.0,0.0875,0.1125,0.0625,10.0,...\n",
              "446021  facedeepinpublic  ...  20.0,18.0,0.8,0.0,0.3,0.15,0.05,4.0,4.0,0.0,4....\n",
              "479232            spchan  ...  30.0,26.0,0.733333333333,0.0,0.4,0.16666666666...\n",
              "500540            austiz  ...  29.0,27.0,0.793103448276,0.0,0.241379310345,0....\n",
              "501183           4acodmt  ...  46.0,41.0,0.739130434783,0.0217391304348,0.152...\n",
              "\n",
              "[15390 rows x 6 columns]"
            ]
          },
          "metadata": {
            "tags": []
          },
          "execution_count": 10
        }
      ]
    },
    {
      "cell_type": "code",
      "metadata": {
        "id": "q6J4F4UBTnor"
      },
      "source": [
        "def get_top_graph(df, n):\n",
        "  a = df[\"SOURCE_SUBREDDIT\"]\n",
        "  b = df[\"TARGET_SUBREDDIT\"]\n",
        "  c = df[\"LINK_SENTIMENT\"].astype(int)\n",
        "  degrees = {}\n",
        "  for i in range(len(a)):\n",
        "    if a.iloc[i] not in degrees:\n",
        "      degrees[a.iloc[i]] = 1\n",
        "    else:\n",
        "      degrees[a.iloc[i]] += 1\n",
        "    if b.iloc[i] not in degrees:\n",
        "      degrees[b.iloc[i]] = 1\n",
        "    else:\n",
        "      degrees[b.iloc[i]] += 1\n",
        "  top = sorted(degrees.items(), key=lambda x : x[1], reverse=True)\n",
        "  used = {i[0] for i in top[:min(n, len(top))]}\n",
        "  name_to_idx = {top[i][0] : i for i in range(min(n, len(top)))}\n",
        "  matrix = np.full((min(n, len(top)), min(n, len(top))), False)\n",
        "  G = nx.MultiDiGraph()\n",
        "  for i in range(len(a)):\n",
        "    if a.iloc[i] in used and b.iloc[i] in used:\n",
        "      if G.has_edge(a.iloc[i], b.iloc[i]):\n",
        "        data = G.get_edge_data(a.iloc[i], b.iloc[i])\n",
        "        data[0][\"weight\"] += 1\n",
        "        data[0][\"total_sentiment\"] += c.iloc[i]\n",
        "      else:\n",
        "        G.add_edge(a.iloc[i], b.iloc[i], weight=1, total_sentiment=c.iloc[i])\n",
        "      matrix[name_to_idx[a.iloc[i]], name_to_idx[b.iloc[i]]] = True\n",
        "\n",
        "  return G, matrix, name_to_idx\n",
        "  \n",
        "top50, top50_matrix, name_to_idx = get_top_graph(get_month(df, \"2014-03\"), 200)"
      ],
      "execution_count": 88,
      "outputs": []
    },
    {
      "cell_type": "code",
      "metadata": {
        "colab": {
          "base_uri": "https://localhost:8080/"
        },
        "id": "_N0ZGdeRj0Lt",
        "outputId": "8d75a4da-95cd-4d3e-8dc8-2046f98083c4"
      },
      "source": [
        "def get_min_n(data, n):\n",
        "  ans = []\n",
        "  for i in data:\n",
        "    if len(ans) < n:\n",
        "      ans.append(i)\n",
        "    elif i < max(ans):\n",
        "      ans.append(i)\n",
        "      ans.remove(max(ans))\n",
        "  return ans\n",
        "\n",
        "def get_max_n(data, n):\n",
        "  ans = []\n",
        "  for i in data:\n",
        "    if len(ans) < n:\n",
        "      ans.append(i)\n",
        "    elif i > min(ans):\n",
        "      ans.append(i)\n",
        "      ans.remove(min(ans))\n",
        "  return ans\n",
        "\n",
        "get_max_n([2, 4, 5, 17, 9, 0, 13, -4, 23, 17], 5)"
      ],
      "execution_count": 69,
      "outputs": [
        {
          "output_type": "execute_result",
          "data": {
            "text/plain": [
              "[17, 9, 13, 23, 17]"
            ]
          },
          "metadata": {
            "tags": []
          },
          "execution_count": 69
        }
      ]
    },
    {
      "cell_type": "code",
      "metadata": {
        "colab": {
          "base_uri": "https://localhost:8080/",
          "height": 1000,
          "referenced_widgets": [
            "ff045846011342109ba09839a30ccb53",
            "a79b7b952fd649e4b5c39f9755e48a39",
            "48e63609aa1146a09a2b55856ecbaa80",
            "63b88481ef9946eab28f31bdef7e9b2a",
            "f7004d346d2c4dd1ab45a0c4cea76af3",
            "de58dda096534f6bb4e55d2ccbc61215",
            "172ba12f40d24be1a357f8d56527481b"
          ]
        },
        "id": "_R8UWO60cqiy",
        "outputId": "c3c63ac5-1e83-4c4e-87f1-5debc7e0e3bb"
      },
      "source": [
        "def get_analytics(df, date, n):\n",
        "  clear_output()\n",
        "  G, _, _ = get_top_graph(get_month(df, date), len(df.index))\n",
        "  in_degree = {i : 0 for i in G.nodes}\n",
        "  out_degree = {i : 0 for i in G.nodes}\n",
        "  outgoing_sentiment = {i : 0 for i in G.nodes}\n",
        "  incoming_sentiment = {i : 0 for i in G.nodes}\n",
        "  ctr = 0\n",
        "  edges_weight = []\n",
        "  edges_sentiment = []\n",
        "  for e in G.edges:\n",
        "    in_degree[e[0]] += G.get_edge_data(e[0], e[1])[e[2]][\"weight\"]\n",
        "    out_degree[e[1]] += G.get_edge_data(e[0], e[1])[e[2]][\"weight\"]\n",
        "    outgoing_sentiment[e[0]] += G.get_edge_data(e[0], e[1])[e[2]][\"total_sentiment\"]\n",
        "    incoming_sentiment[e[1]] += G.get_edge_data(e[0], e[1])[e[2]][\"weight\"]\n",
        "    edges_weight.append((G.get_edge_data(e[0], e[1])[e[2]][\"weight\"], e[0] + \"->\" + e[1]))\n",
        "    edges_sentiment.append((G.get_edge_data(e[0], e[1])[e[2]][\"total_sentiment\"], e[0] + \"->\" + e[1]))\n",
        "  \n",
        "  biggest_edges = get_max_n(edges_weight, n)\n",
        "  biggest_edges_string = \"BIGGEST EDGES\\n\" + \"\\n\".join([str(i) for i in biggest_edges])\n",
        "  \n",
        "  nicest_edges = get_max_n(edges_sentiment, n)\n",
        "  meanest_edges = get_min_n(edges_sentiment, n)\n",
        "  nicest_edges_string = \"NICEST EDGES\\n\" + \"\\n\".join([str(i) for i in nicest_edges])\n",
        "  meanest_edges_string = \"MEANEST EDGES\\n\" + \"\\n\".join([str(i) for i in meanest_edges])\n",
        "\n",
        "  in_degree_list = [(v, k) for k, v in in_degree.items()]\n",
        "  out_degree_list = [(v, k) for k, v in out_degree.items()]\n",
        "  total_degree_list = [(in_degree[k] + out_degree[k], k) for k in in_degree.keys()]\n",
        "  in_sentiment = [(v, k) for k, v in incoming_sentiment.items()]\n",
        "  out_sentiment = [(v, k) for k, v in outgoing_sentiment.items()]\n",
        "\n",
        "  avg_in = sum([i[0] for i in in_degree_list]) / len(in_degree_list)\n",
        "  avg_out = sum([i[0] for i in out_degree_list]) / len(out_degree_list)\n",
        "  degree_string = \"AVERAGE IN DEGREE: \" + str(avg_in) + \", AVERAGE OUT DEGREE: \" + str(avg_out)\n",
        "\n",
        "  highest_degree = max(total_degree_list)\n",
        "  highest_degree_string = \"MOST ACTIVE SUBREDDIT: \" + str(max(total_degree_list))\n",
        "\n",
        "  nicest_sub = get_max_n(out_sentiment, n)\n",
        "  most_loved = get_max_n(in_sentiment, n)\n",
        "  meanest_sub = get_min_n(out_sentiment, n)\n",
        "  most_hated = get_min_n(in_sentiment, n)\n",
        "  in_sentiment_string = \"MOST LOVED\\n\" + \"\\n\".join([str(i) for i in most_loved]) + \"\\nMOST HATED\\n\" + \"\\n\".join([str(i) for i in most_hated])\n",
        "  out_sentiment_string = \"NICEST SUBREDDIT\\n\" + \"\\n\".join([str(i) for i in nicest_sub]) + \"\\nMEANEST SUBREDDIT\\n\" + \"\\n\".join([str(i) for i in meanest_sub])\n",
        "  final_string = [degree_string, highest_degree_string, biggest_edges_string, \n",
        "                  nicest_edges_string, meanest_edges_string, in_sentiment_string,\n",
        "                  out_sentiment_string]\n",
        "  print(\"\\n\".join(final_string))\n",
        "get_analytics(df, \"2014-01\", 5)\n",
        "dates = list({i for i in df[\"TIMESTAMP\"]})\n",
        "interact(lambda x : get_analytics(df, x, 5), x=dates)"
      ],
      "execution_count": 97,
      "outputs": [
        {
          "output_type": "stream",
          "text": [
            "AVERAGE IN DEGREE: 2.7537537537537538, AVERAGE OUT DEGREE: 2.7537537537537538\n",
            "MOST ACTIVE SUBREDDIT: (650, 'subredditdrama')\n",
            "BIGGEST EDGES\n",
            "(13, 'dailydot->iama')\n",
            "(16, 'atletico->soccer')\n",
            "(11, 'calgaryflames->hockey')\n",
            "(12, 'denvernuggets->nba')\n",
            "(10, 'switcharoo->funny')\n",
            "NICEST EDGES\n",
            "(13, 'dailydot->iama')\n",
            "(10, 'dailydot->explainlikeimfive')\n",
            "(16, 'atletico->soccer')\n",
            "(11, 'calgaryflames->hockey')\n",
            "(12, 'denvernuggets->nba')\n",
            "MEANEST EDGES\n",
            "(-3, 'srssucks->subredditdrama')\n",
            "(-3, 'subredditdrama->anarcho_capitalism')\n",
            "(-6, 'subredditdrama->relationships')\n",
            "(-3, 'quityourbullshit->adviceanimals')\n",
            "(-3, 'mrmorwhiterights->mensrights')\n",
            "MOST LOVED\n",
            "(327, 'pics')\n",
            "(506, 'iama')\n",
            "(266, 'funny')\n",
            "(574, 'askreddit')\n",
            "(217, 'worldnews')\n",
            "MOST HATED\n",
            "(0, '4000dollarart')\n",
            "(0, '100movies365days')\n",
            "(0, '3dscanning')\n",
            "(0, '240sx')\n",
            "(0, '19thworldproblems')\n",
            "NICEST SUBREDDIT\n",
            "(145, 'dogecoin')\n",
            "(160, 'subredditdrama')\n",
            "(124, 'dailydot')\n",
            "(371, 'bestof')\n",
            "(108, 'titlegore')\n",
            "MEANEST SUBREDDIT\n",
            "(-3, 'wherearethefeminists')\n",
            "(-3, 'pasto_range')\n",
            "(-4, 'theredpillcirclejerk')\n",
            "(-3, 'antimemewatch')\n",
            "(-2, 'mfavs')\n"
          ],
          "name": "stdout"
        },
        {
          "output_type": "display_data",
          "data": {
            "application/vnd.jupyter.widget-view+json": {
              "model_id": "ff045846011342109ba09839a30ccb53",
              "version_minor": 0,
              "version_major": 2
            },
            "text/plain": [
              "interactive(children=(Dropdown(description='x', options=('2017-04', '2016-12', '2015-05', '2013-12', '2016-07'…"
            ]
          },
          "metadata": {
            "tags": []
          }
        },
        {
          "output_type": "execute_result",
          "data": {
            "text/plain": [
              "<function __main__.<lambda>>"
            ]
          },
          "metadata": {
            "tags": []
          },
          "execution_count": 97
        }
      ]
    },
    {
      "cell_type": "code",
      "metadata": {
        "id": "lZMHx3m0Ua7S"
      },
      "source": [
        "# todo: make the vectors length 1 before applying constant\n",
        "\n",
        "positions = nx.circular_layout(top50, scale=5)\n",
        "def update_positions(g, g_matrix, g_dict, positions, n_iters, toward_constant=0.00005, away_constant=0.00005):\n",
        "  for _ in range(n_iters):\n",
        "    #force = {i : -0.01 * positions[i] for i in nx.nodes(g)}\n",
        "    force = {i : 0 for i in nx.nodes(g)}\n",
        "    for a in nx.nodes(g):\n",
        "      for b in nx.nodes(g):\n",
        "        if a == b:\n",
        "          continue\n",
        "        elif (positions[a] == positions[b]).all():\n",
        "          distance = 0.00000001\n",
        "          dir_ab = np.random.random(size=2) * 2 - 1\n",
        "          dir_ba = -dir_ab\n",
        "        else:\n",
        "          distance = np.linalg.norm(positions[a] - positions[b])\n",
        "          dir_ab = (positions[a] - positions[b]) / distance\n",
        "          dir_ba = (positions[b] - positions[a]) / distance\n",
        "        if g_matrix[g_dict[a], g_dict[b]]:\n",
        "          weight = g.get_edge_data(a, b)[0][\"weight\"]\n",
        "          force[a] += weight * toward_constant * distance * dir_ba\n",
        "          force[b] += weight * toward_constant * distance * dir_ab\n",
        "        \n",
        "        force[a] -= (away_constant / (distance ** 2)) * dir_ba\n",
        "        force[b] -= (away_constant / (distance ** 2)) * dir_ab\n",
        "    for k in positions.keys():\n",
        "      #positions[k] = np.minimum(1, np.maximum(-1, positions[k] + force[k]))\n",
        "      positions[k] = positions[k] + force[k]\n",
        "  return positions\n",
        "pos = update_positions(top50, top50_matrix, name_to_idx, positions, 50)\n",
        "plt.figure(1, figsize=(12, 12))\n",
        "nx.draw_networkx(top50, pos=pos, edgelist=[], node_size=50)"
      ],
      "execution_count": null,
      "outputs": []
    },
    {
      "cell_type": "code",
      "metadata": {
        "id": "cX5WgoQrXxYH"
      },
      "source": [
        "pos = update_positions(top50, top50_matrix, name_to_idx, pos, 50)\n",
        "plt.figure(1, figsize=(24, 24))\n",
        "nx.draw_networkx(top50, pos=pos, edgelist=[], node_size=50)"
      ],
      "execution_count": null,
      "outputs": []
    },
    {
      "cell_type": "code",
      "metadata": {
        "colab": {
          "base_uri": "https://localhost:8080/",
          "height": 683
        },
        "id": "8ioFOpBhWFsx",
        "outputId": "9d0b040c-c15e-49f0-adf6-d5e5cd090359"
      },
      "source": [
        "plt.figure(1, figsize=(12, 12))\n",
        "nx.draw_networkx(top50, pos=nx.spring_layout(top50, pos=nx.kamada_kawai_layout(top50, scale=1), iterations=50, scale=2), edgelist=[], node_size=50)"
      ],
      "execution_count": 98,
      "outputs": [
        {
          "output_type": "display_data",
          "data": {
            "image/png": "[encoded data removed]",
            "text/plain": [
              "<Figure size 864x864 with 1 Axes>"
            ]
          },
          "metadata": {
            "tags": []
          }
        }
      ]
    },
    {
      "cell_type": "code",
      "metadata": {
        "colab": {
          "base_uri": "https://localhost:8080/"
        },
        "id": "r6KnvrOTX8Yk",
        "outputId": "a15bb4be-146c-49d0-dcd8-fdaaff36a126"
      },
      "source": [
        "t_g:nx.MultiDiGraph = nx.MultiDiGraph()\n",
        "t_g.add_edge(\"a\", \"b\", weight=1)\n",
        "t_g.get_edge_data(\"a\", \"b\")[0][\"weight\"] = 2\n",
        "t_g.get_edge_data(\"a\", \"b\")\n",
        "t_g.add_edge(\"b\", \"c\", weight=1)\n",
        "t_g.get_edge_data(\"b\", \"c\")\n",
        "t_g.edges"
      ],
      "execution_count": 52,
      "outputs": [
        {
          "output_type": "execute_result",
          "data": {
            "text/plain": [
              "OutMultiEdgeView([('a', 'b', 0), ('b', 'c', 0)])"
            ]
          },
          "metadata": {
            "tags": []
          },
          "execution_count": 52
        }
      ]
    },
    {
      "cell_type": "code",
      "metadata": {
        "id": "MiCXGQowiD-l"
      },
      "source": [
        ""
      ],
      "execution_count": null,
      "outputs": []
    }
  ]
}